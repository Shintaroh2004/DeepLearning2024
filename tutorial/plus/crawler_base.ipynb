{
 "cells": [
  {
   "attachments": {},
   "cell_type": "markdown",
   "metadata": {},
   "source": [
    "補足資料 画像の集め方"
   ]
  },
  {
   "attachments": {},
   "cell_type": "markdown",
   "metadata": {},
   "source": [
    "１、icrawlerを使おう"
   ]
  },
  {
   "attachments": {},
   "cell_type": "markdown",
   "metadata": {},
   "source": [
    "画像データセットを作るのに「よし！今からブラウザ開いてgoogle画像漁るぞ!」なんてやってたらキリがありません。プログラムで自動化したいですよね？そこで、今回はicrawlerというライブラリを用いて、効率よく画像を集めていきます。"
   ]
  },
  {
   "attachments": {},
   "cell_type": "markdown",
   "metadata": {},
   "source": [
    "このicrawlerとは「Bing」や「Chrome」といったブラウザの画像を簡単に集めてくれるライブラリです。今回は「Chrome」に載ってる画像をゲットするために「GoogleImageCrawler」というものを使っていきます。ついでに、こういったインターネットにあるコンテンツやデータを集めてくるプログラムの事を、「クローラー」といいます。"
   ]
  },
  {
   "cell_type": "code",
   "execution_count": 2,
   "metadata": {},
   "outputs": [
    {
     "name": "stdout",
     "output_type": "stream",
     "text": [
      "Requirement already satisfied: icrawler in c:\\users\\user\\venv\\torch\\lib\\site-packages (0.6.6)\n",
      "Requirement already satisfied: six>=1.10.0 in c:\\users\\user\\venv\\torch\\lib\\site-packages (from icrawler) (1.16.0)\n",
      "Requirement already satisfied: lxml in c:\\users\\user\\venv\\torch\\lib\\site-packages (from icrawler) (4.9.2)\n",
      "Requirement already satisfied: Pillow in c:\\users\\user\\venv\\torch\\lib\\site-packages (from icrawler) (9.3.0)\n",
      "Requirement already satisfied: beautifulsoup4>=4.4.1 in c:\\users\\user\\venv\\torch\\lib\\site-packages (from icrawler) (4.11.1)\n",
      "Requirement already satisfied: requests>=2.9.1 in c:\\users\\user\\venv\\torch\\lib\\site-packages (from icrawler) (2.28.1)\n",
      "Requirement already satisfied: soupsieve>1.2 in c:\\users\\user\\venv\\torch\\lib\\site-packages (from beautifulsoup4>=4.4.1->icrawler) (2.3.2.post1)\n",
      "Requirement already satisfied: charset-normalizer<3,>=2 in c:\\users\\user\\venv\\torch\\lib\\site-packages (from requests>=2.9.1->icrawler) (2.1.1)\n",
      "Requirement already satisfied: certifi>=2017.4.17 in c:\\users\\user\\venv\\torch\\lib\\site-packages (from requests>=2.9.1->icrawler) (2022.12.7)\n",
      "Requirement already satisfied: idna<4,>=2.5 in c:\\users\\user\\venv\\torch\\lib\\site-packages (from requests>=2.9.1->icrawler) (3.4)\n",
      "Requirement already satisfied: urllib3<1.27,>=1.21.1 in c:\\users\\user\\venv\\torch\\lib\\site-packages (from requests>=2.9.1->icrawler) (1.26.13)\n",
      "Note: you may need to restart the kernel to use updated packages.\n"
     ]
    },
    {
     "name": "stderr",
     "output_type": "stream",
     "text": [
      "\n",
      "[notice] A new release of pip is available: 23.0.1 -> 23.1.2\n",
      "[notice] To update, run: python.exe -m pip install --upgrade pip\n"
     ]
    },
    {
     "name": "stdout",
     "output_type": "stream",
     "text": [
      "Requirement already satisfied: opencv-python in c:\\users\\user\\venv\\torch\\lib\\site-packages (4.7.0.68)\n",
      "Requirement already satisfied: numpy>=1.17.0 in c:\\users\\user\\venv\\torch\\lib\\site-packages (from opencv-python) (1.23.5)\n",
      "Note: you may need to restart the kernel to use updated packages.\n"
     ]
    },
    {
     "name": "stderr",
     "output_type": "stream",
     "text": [
      "\n",
      "[notice] A new release of pip is available: 23.0.1 -> 23.1.2\n",
      "[notice] To update, run: python.exe -m pip install --upgrade pip\n"
     ]
    }
   ],
   "source": [
    "%pip install icrawler \n",
    "%pip install opencv-python\n",
    "from icrawler.builtin import GoogleImageCrawler as GI #長いので略す"
   ]
  },
  {
   "attachments": {},
   "cell_type": "markdown",
   "metadata": {},
   "source": [
    "これで、icrawlerのインストールとインポートは完了です。ん？opencv-pythonというのもインストールされてますね。これは後で説明します"
   ]
  },
  {
   "attachments": {},
   "cell_type": "markdown",
   "metadata": {},
   "source": [
    "それでは実際に画像を集めてみます"
   ]
  },
  {
   "cell_type": "code",
   "execution_count": 1,
   "metadata": {},
   "outputs": [
    {
     "name": "stderr",
     "output_type": "stream",
     "text": [
      "�T�u�f�B���N�g���܂��̓t�@�C�� images �͊��ɑ��݂��܂��B\n"
     ]
    }
   ],
   "source": [
    "%mkdir images\n",
    "#まず、画像群をしまっておくフォルダを制作"
   ]
  },
  {
   "cell_type": "code",
   "execution_count": 3,
   "metadata": {},
   "outputs": [
    {
     "name": "stderr",
     "output_type": "stream",
     "text": [
      "2023-06-06 18:20:09,965 - INFO - icrawler.crawler - start crawling...\n",
      "2023-06-06 18:20:09,966 - INFO - icrawler.crawler - starting 1 feeder threads...\n",
      "2023-06-06 18:20:09,968 - INFO - feeder - thread feeder-001 exit\n",
      "2023-06-06 18:20:09,971 - INFO - icrawler.crawler - starting 1 parser threads...\n",
      "2023-06-06 18:20:09,975 - INFO - icrawler.crawler - starting 1 downloader threads...\n",
      "2023-06-06 18:20:10,790 - INFO - parser - parsing result page https://www.google.com/search?q=%E3%81%84%E3%81%AC&ijn=0&start=0&tbs=&tbm=isch\n",
      "2023-06-06 18:20:11,043 - INFO - downloader - image #1\thttps://img.benesse-cms.jp/item/image/user/7c9fe6831f52e30e0ede4f8c54fd9bba673e8d8b/39bc4015-12b4-48c7-9c47-5d1998b63122.jpg\n",
      "2023-06-06 18:20:11,401 - INFO - downloader - image #2\thttps://skywardplus.jal.co.jp/wp-content/uploads/2020/07/eyecatch_dogday_main.jpg\n",
      "2023-06-06 18:20:11,575 - INFO - downloader - image #3\thttps://book.impress.co.jp/upload/page-image/1119102022_IN01.jpg\n",
      "2023-06-06 18:20:12,153 - ERROR - downloader - Response status code 404, file https://upload.wikimedia.org/wikipedia/commons/thumb/6/6b/Taka_Shiba.jpg\n",
      "2023-06-06 18:20:12,516 - ERROR - downloader - Response status code 404, file https://upload.wikimedia.org/wikipedia/commons/thumb/5/58/Shiba_inu_taiki.jpg\n",
      "2023-06-06 18:20:12,776 - INFO - downloader - image #4\thttps://p.potaufeu.asahi.com/5ead-p/picture/27535728/e89deaf4f12a438037c4c7da3b866c7a.jpg\n",
      "2023-06-06 18:20:13,049 - INFO - downloader - image #5\thttps://www.jigsaw.jp/img/goods/L/yam7981727071.jpg\n",
      "2023-06-06 18:20:13,213 - INFO - downloader - image #6\thttps://newsatcl-pctr.c.yimg.jp/t/amd-img/20230515-00062354-inumag-000-1-view.jpg\n",
      "2023-06-06 18:20:13,470 - INFO - downloader - image #7\thttps://static.toriaez.jp/uploads/images/y3271/slide-n6KaH991cj.jpg\n",
      "2023-06-06 18:20:14,029 - INFO - downloader - image #8\thttps://crevis.co.jp/crevis/wp-content/uploads/2020/10/inu_t01.jpg\n",
      "2023-06-06 18:20:14,100 - INFO - downloader - image #9\thttps://m.media-amazon.com/images/I/616II7kATLL._AC_UF1000,1000_QL80_.jpg\n",
      "2023-06-06 18:20:14,412 - INFO - downloader - image #10\thttps://crevis.co.jp/crevis/wp-content/uploads/2020/10/inu_p05.jpg\n",
      "2023-06-06 18:20:14,636 - INFO - downloader - image #11\thttps://tshop.r10s.jp/zakkakirara/cabinet/05115343/05122561/puppy-pug11.jpg\n",
      "2023-06-06 18:20:14,904 - INFO - downloader - image #12\thttps://www.fashion-press.net/img/news/43915/5Pc.jpg\n",
      "2023-06-06 18:20:15,497 - INFO - downloader - image #13\thttps://img07.shop-pro.jp/PA01366/577/product/165325432.jpg\n",
      "2023-06-06 18:20:15,602 - INFO - downloader - image #14\thttps://img.benesse-cms.jp/pet-dog/item/image/normal/resized/resized_c5b975c8-c6d7-4f00-83ec-286fa75f7962.jpg\n",
      "2023-06-06 18:20:15,771 - INFO - downloader - image #15\thttps://www3.nhk.or.jp/news/html/20221117/K10013894501_2211171227_1117123816_01_11.jpg\n",
      "2023-06-06 18:20:15,839 - INFO - downloader - image #16\thttps://pbs.twimg.com/profile_images/952123837532880896/MSKJHIkG_400x400.jpg\n",
      "2023-06-06 18:20:15,978 - INFO - downloader - image #17\thttps://www.ehonnavi.net/img/cover/500/500_Ehon_153715.jpg\n",
      "2023-06-06 18:20:16,119 - INFO - downloader - image #18\thttps://gogen-yurai.jp/wp-content/uploads/178219301_675.jpg\n",
      "2023-06-06 18:20:16,232 - INFO - downloader - image #19\thttps://static.camp-fire.jp/uploads/project_version/image/804486/a1e9c279-de0d-4c71-8691-a770e3e1a772.jpg\n",
      "2023-06-06 18:20:16,744 - INFO - downloader - image #20\thttps://crayonimg.e-shops.jp/cms-dimg/1045687/1235183/850_536.jpg\n",
      "2023-06-06 18:20:16,874 - INFO - downloader - image #21\thttps://hint-pot.jp/wp-content/uploads/2022/10/21142606/20221021_dog1_sns.jpg\n",
      "2023-06-06 18:20:17,003 - INFO - downloader - image #22\thttps://book.impress.co.jp/upload/page-image/1119102023_IN01.jpg\n",
      "2023-06-06 18:20:17,353 - INFO - downloader - image #23\thttps://scienceportal.jst.go.jp/wp-content/uploads/article038_2.jpg\n",
      "2023-06-06 18:20:17,978 - INFO - downloader - image #24\thttps://tshop.r10s.jp/lifeadshop/cabinet/items/60720013.jpg\n",
      "2023-06-06 18:20:18,099 - INFO - downloader - image #25\thttps://img.benesse-cms.jp/pet-dog/item/image/normal/resized/resized_1074ee56-69f6-42f9-8ecf-85a823cd6cb5.jpg\n",
      "2023-06-06 18:20:18,370 - INFO - downloader - image #26\thttps://inunoke-tex.com/wp/wp-content/uploads/2023/03/b8de0507-d466-4c3b-8688-e05e7a8c8d7f.jpg\n",
      "2023-06-06 18:20:18,666 - INFO - downloader - image #27\thttps://www.fukuinkan.co.jp/img/goods_img/01-0912_01.jpg\n",
      "2023-06-06 18:20:18,954 - INFO - downloader - image #28\thttps://www.fashion-press.net/img/news/89790/SWE.jpg\n",
      "2023-06-06 18:20:19,077 - INFO - downloader - image #29\thttps://newsatcl-pctr.c.yimg.jp/t/amd-img/20230524-00062549-inumag-000-1-view.jpg\n",
      "2023-06-06 18:20:19,250 - INFO - downloader - image #30\thttps://wan-one.jp/wp/wp-content/uploads/2018/10/gf0780035052o-1-1024x740.jpg\n",
      "2023-06-06 18:20:19,322 - ERROR - downloader - Response status code 404, file https://newsatcl-pctr.c.yimg.jp/t/amd-img/20230422-00061587-inumag-000-1-view.jpg\n",
      "2023-06-06 18:20:19,605 - INFO - downloader - image #31\thttps://post.tv-asahi.co.jp/wp-content/uploads/2022/10/nekoinu1013_2.jpg\n",
      "2023-06-06 18:20:19,797 - INFO - downloader - image #32\thttps://crayonimg.e-shops.jp/cms-dimg/1045687/1235186/850_566.jpg\n",
      "2023-06-06 18:20:19,843 - INFO - downloader - image #33\thttps://tshop.r10s.jp/konan/cabinet/ki043/4521718069593_1.jpg\n",
      "2023-06-06 18:20:20,285 - INFO - downloader - image #34\thttps://geibunsha.co.jp/wordpress/wp-content/uploads/2021/08/9784863967618.MAIN_.jpg\n",
      "2023-06-06 18:20:20,354 - INFO - downloader - image #35\thttps://pbs.twimg.com/profile_images/1480046916918714371/5AxqkKtf_400x400.jpg\n",
      "2023-06-06 18:20:20,467 - INFO - downloader - image #36\thttps://prcdn.freetls.fastly.net/release_image/68228/151/68228-151-ab8cec3ea65bd349544564430a65b5b1-600x400.jpg\n",
      "2023-06-06 18:20:20,561 - INFO - downloader - image #37\thttp://static.baby-calendar.jp/upload/news/files/news201801/bc_35183467_S.jpg\n",
      "2023-06-06 18:20:20,804 - INFO - downloader - image #38\thttps://inuyamoku.pet/wp-content/uploads/2021/05/Draw-1366294639733-1-e1621051836746.jpg\n",
      "2023-06-06 18:20:21,011 - INFO - downloader - image #39\thttps://makeshop-multi-images.akamaized.net/nekirara2215/shopimages/34/15/1_000000001534.jpg\n",
      "2023-06-06 18:20:21,118 - INFO - downloader - image #40\thttps://www.fukuinkan.co.jp/img/goods_img/06-0087_01.jpg\n",
      "2023-06-06 18:20:21,235 - INFO - downloader - image #41\thttps://halmek.co.jp/media/uploads/6505bcd243c68b3858eddefec457c82f1662956271.6631.jpg\n",
      "2023-06-06 18:20:21,552 - INFO - downloader - image #42\thttps://sippo.asahi.com/sippo/extra/tokyotokyo/assets/img/index/mv-tok-dog.png\n",
      "2023-06-06 18:20:21,762 - INFO - downloader - image #43\thttps://inunoke-tex.com/wp/wp-content/uploads/2023/03/e88fad36-2be3-4f6e-8b09-ff2d5cb39771.jpg\n",
      "2023-06-06 18:20:22,066 - INFO - downloader - image #44\thttps://www.poplar.co.jp/img/cms/book/original/978-4-591-14103-8.jpg\n",
      "2023-06-06 18:20:22,223 - INFO - downloader - image #45\thttps://newsatcl-pctr.c.yimg.jp/t/amd-img/20230529-00010000-hintpot-000-2-view.jpg\n",
      "2023-06-06 18:20:22,422 - INFO - downloader - image #46\thttps://www.tokai-tv.com/newsone/corner/upload_img/2287/4917_addImg_7.jpg\n",
      "2023-06-06 18:20:22,534 - INFO - downloader - image #47\thttps://img.benesse-cms.jp/pet-dog/item/image/normal/c7f71f82-2934-418f-87eb-6f251fb31515.jpg\n",
      "2023-06-06 18:20:22,606 - INFO - downloader - image #48\thttps://prcdn.freetls.fastly.net/release_image/56056/88/56056-88-a3f55ffef6c57fbb8216258bd8fa23a2-720x480.jpg\n",
      "2023-06-06 18:20:23,373 - INFO - downloader - image #49\thttps://img07.shop-pro.jp/PA01366/577/product/165325436.jpg\n",
      "2023-06-06 18:20:23,820 - INFO - downloader - image #50\thttps://assets.st-note.com/production/uploads/images/60662871/52974144ad424d88d1366d58878d7aec.png\n",
      "2023-06-06 18:20:23,930 - INFO - downloader - downloaded images reach max num, thread downloader-001 is ready to exit\n",
      "2023-06-06 18:20:23,931 - INFO - downloader - thread downloader-001 exit\n",
      "2023-06-06 18:20:24,100 - INFO - icrawler.crawler - Crawling task done!\n"
     ]
    },
    {
     "name": "stderr",
     "output_type": "stream",
     "text": [
      "2023-06-06 18:20:24,828 - INFO - parser - downloaded image reached max num, thread parser-001 is ready to exit\n",
      "2023-06-06 18:20:24,828 - INFO - parser - thread parser-001 exit\n"
     ]
    }
   ],
   "source": [
    "#GoogleImageCrawlerのインスタンスと定義。画像を「imagesの中のdogフォルダに保存する」\n",
    "crawler=GI(storage={\"root_dir\":\"images/dog\"})\n",
    "#キーワードを「犬」として検索。最大50枚の画像をゲットする。\n",
    "crawler.crawl(keyword=\"いぬ\",max_num=50)"
   ]
  },
  {
   "attachments": {},
   "cell_type": "markdown",
   "metadata": {},
   "source": [
    "すこし時間はかかりますが手よりはマシです。ではimages/dogに画像が保存されているか確認してみてください。"
   ]
  },
  {
   "attachments": {},
   "cell_type": "markdown",
   "metadata": {},
   "source": [
    "つぎは、猫の画像を集めてみましょう。"
   ]
  },
  {
   "cell_type": "code",
   "execution_count": 4,
   "metadata": {},
   "outputs": [
    {
     "name": "stderr",
     "output_type": "stream",
     "text": [
      "2023-06-06 18:20:30,417 - INFO - icrawler.crawler - start crawling...\n",
      "2023-06-06 18:20:30,418 - INFO - icrawler.crawler - starting 1 feeder threads...\n",
      "2023-06-06 18:20:30,420 - INFO - feeder - thread feeder-001 exit\n",
      "2023-06-06 18:20:30,423 - INFO - icrawler.crawler - starting 1 parser threads...\n",
      "2023-06-06 18:20:30,426 - INFO - icrawler.crawler - starting 1 downloader threads...\n",
      "2023-06-06 18:20:31,276 - INFO - parser - parsing result page https://www.google.com/search?q=%E7%8C%AB&ijn=0&start=0&tbs=&tbm=isch\n",
      "2023-06-06 18:20:31,467 - INFO - downloader - image #1\thttps://dol.ismcdn.jp/mwimgs/5/d/600/img_7e0b8adba77c91687a8078920dedc7be160077.jpg\n",
      "2023-06-06 18:20:32,098 - ERROR - downloader - Response status code 404, file https://upload.wikimedia.org/wikipedia/commons/thumb/a/a4/A_cat_on_a_motorcycle_in_the_medina_of_Tunis_20171017_131525.jpg\n",
      "2023-06-06 18:20:32,230 - INFO - downloader - image #2\thttps://fujifilmsquare.jp/assets/img/column/column_24_mv.jpg\n",
      "2023-06-06 18:20:32,468 - INFO - downloader - image #3\thttps://newsatcl-pctr.c.yimg.jp/t/amd-img/20230605-00041230-toushin-000-1-view.png\n",
      "2023-06-06 18:20:32,544 - INFO - downloader - image #4\thttps://newsatcl-pctr.c.yimg.jp/t/amd-img/20230224-00000007-ovo-000-1-view.jpg\n",
      "2023-06-06 18:20:32,598 - INFO - downloader - image #5\thttps://fujifilmsquare.jp/assets/img/column/column_24_01.jpg\n",
      "2023-06-06 18:20:32,811 - INFO - downloader - image #6\thttps://brutus.jp/wp-content/uploads/2023/04/b0d8bc56a0cda1cabd4b943ffc5b14c9.jpg\n",
      "2023-06-06 18:20:33,014 - INFO - downloader - image #7\thttps://i.ytimg.com/vi/zf8qlSLfeK8/mqdefault.jpg\n",
      "2023-06-06 18:20:33,205 - INFO - downloader - image #8\thttps://cat.benesse.ne.jp/share/renewal_design/img/catlist/ranking/3_%E3%82%B9%E3%82%B3%E3%83%86%E3%82%A3%E3%83%83%E3%82%B7%E3%83%A5%E3%83%95%E3%82%A9%E3%83%BC%E3%83%AB%E3%83%88%E3%82%99.jpg\n",
      "2023-06-06 18:20:33,379 - INFO - downloader - image #9\thttps://www.petio.com/wp-content/uploads/2023/01/fda4b9e367e372d69ccfbe77ea72ba11-4.jpg\n",
      "2023-06-06 18:20:33,521 - INFO - downloader - image #10\thttps://www.petfamilyins.co.jp/pns/wp-content/uploads/2021/12/01_cute-siamese-sealpoint-cat-sitting-on.jpg\n",
      "2023-06-06 18:20:33,646 - INFO - downloader - image #11\thttps://www.felissimo.co.jp/dw/image/v2/BGGR_PRD/on/demandware.static/-/Sites-160/default/dw87947cad/pic/754578-productcuts-01-99999999-S.jpg\n",
      "2023-06-06 18:20:33,796 - INFO - downloader - image #12\thttps://www.anicom-sompo.co.jp/nekonoshiori/wp-content/uploads/2020/09/328_1-740x429.jpg\n",
      "2023-06-06 18:20:33,943 - INFO - downloader - image #13\thttps://brutus.jp/wp-content/uploads/2023/04/3482d0cb779d4e9bb93aeac64de34137-750x507.jpg\n",
      "2023-06-06 18:20:34,111 - INFO - downloader - image #14\thttps://goetheweb.jp/wp-content/uploads/2023/02/00-1_neko.jpg\n",
      "2023-06-06 18:20:34,275 - INFO - downloader - image #15\thttp://www.nekobu.com/blog/571133189372cd494eac74e0118a93582a7e9ad9.jpg\n",
      "2023-06-06 18:20:34,422 - INFO - downloader - image #16\thttps://precious.ismcdn.jp/mwimgs/c/3/1080/img_c329b2977f0c543bb74a7e1b39dbfa47698703.jpg\n",
      "2023-06-06 18:20:34,461 - INFO - downloader - image #17\thttps://cat.benesse.ne.jp/share/renewal_design/img/catlist/ranking/1_%E3%82%AD%E3%82%B7%E3%82%99%E3%83%88%E3%83%A9_02.jpg\n",
      "2023-06-06 18:20:34,615 - INFO - downloader - image #18\thttps://canon.jp/-/media/Project/Canon/CanonJP/Website/personal/fun/itoshino/article/cat2nd/image/cat2nd-mainvisual.jpg\n",
      "2023-06-06 18:20:34,835 - INFO - downloader - image #19\thttps://www.city.yokohama.lg.jp/kurashi/sumai-kurashi/pet-dobutsu/aigo/joto/jotoinfo-cat.images/929jotof23041703.jpg\n",
      "2023-06-06 18:20:35,044 - INFO - downloader - image #20\thttps://img-newsweekjapan.jp/akane/akane221227_cat.jpg\n",
      "2023-06-06 18:20:35,324 - INFO - downloader - image #21\thttps://www.daiwahouse.co.jp/tryie/column/think/cat_shampoo/images/mainVisual_smp.jpg\n",
      "2023-06-06 18:20:35,507 - INFO - downloader - image #22\thttps://newsatcl-pctr.c.yimg.jp/t/amd-img/20230605-00000023-it_nlab-000-1-view.jpg\n",
      "2023-06-06 18:20:35,635 - INFO - downloader - image #23\thttps://p.potaufeu.asahi.com/4031-p/picture/27270418/bfb5ada4d28ed72e67f952735f5701ad.jpg\n",
      "2023-06-06 18:20:35,753 - INFO - downloader - image #24\thttps://dol.ismcdn.jp/mwimgs/8/e/650/img_8e64c79e90bb6f02f5d05fcb38d9b9dd89699.jpg\n",
      "2023-06-06 18:20:35,978 - ERROR - downloader - Response status code 404, file https://www.gotokyo.org/jp/new-and-now/new-and-trending/221121/images/221121_pc_main.jpg\n",
      "2023-06-06 18:20:36,250 - INFO - downloader - image #25\thttps://prtimes.jp/i/114004/1/origin/d114004-1-f89892f73442c61deab9-18.png\n",
      "2023-06-06 18:20:36,478 - INFO - downloader - image #26\thttps://resize.blogsys.jp/d204f2eb64f4ba7ca968f5b1f0ddcf3ca46d9cc9/crop8/600x400/https://livedoor.blogimg.jp/chotocha39/imgs/0/f/0f84a078.jpg\n",
      "2023-06-06 18:20:36,708 - INFO - downloader - image #27\thttps://www.petio.com/wp-content/uploads/2022/12/img01.jpg\n",
      "2023-06-06 18:20:36,910 - INFO - downloader - image #28\thttps://i.ytimg.com/vi/TxSd1kxuyRU/maxresdefault.jpg\n",
      "2023-06-06 18:20:37,200 - INFO - downloader - image #29\thttps://jp.unicharmpet.com/content/dam/sites/jp_unicharmpet_com/pet/magazine/cat/kitten/img/010029/article-main-img_01-029.png\n",
      "2023-06-06 18:20:37,275 - INFO - downloader - image #30\thttps://i.ytimg.com/vi/aefTGAPb85U/maxresdefault.jpg\n",
      "2023-06-06 18:20:37,445 - INFO - downloader - image #31\thttps://baseec-img-mng.akamaized.net/images/item/origin/a7d5e3dd06d2cf95c8ac2b2aa0efc92a.jpg\n",
      "2023-06-06 18:20:37,585 - ERROR - downloader - Response status code 403, file https://www.sankei.com/resizer/XBJNFMameTyH3s8R3Pd6pI9wSIM\\u003d/1200x630/smart/filters:quality(50)/cloudfront-ap-northeast-1.images.arcpublishing.com/sankei/HEWOWPJ6IBKATCVDTLO43XLI2M.jpg\n",
      "2023-06-06 18:20:37,745 - INFO - downloader - image #32\thttps://www.petfamilyins.co.jp/pns/wp-content/uploads/2021/09/1_Ermolaev-Alexander_shutterstock_176014778.jpg\n",
      "2023-06-06 18:20:37,908 - INFO - downloader - image #33\thttps://www.aeonpet.com/assets/ap_special_detail/ap_special_detail-img-729.jpg\n",
      "2023-06-06 18:20:38,179 - INFO - downloader - image #34\thttps://nekoneko-kyokai.jp/wp-content/uploads/2023/04/oshineko23main.png\n",
      "2023-06-06 18:20:38,326 - INFO - downloader - image #35\thttps://img.furusato-tax.jp/img/x/gcf/project/forms/20220914/d_a87349011eed839862b72ef7a485eb96ab7d52df.jpg\n",
      "2023-06-06 18:20:38,358 - INFO - downloader - image #36\thttps://jp.unicharmpet.com/content/dam/sites/jp_unicharmpet_com/pet/magazine/cat/kitten/img/010029/010029_01_img.jpg\n",
      "2023-06-06 18:20:38,531 - INFO - downloader - image #37\thttps://www.mfr.co.jp/content/dam/mfrcojp/sumai/chishiki_018/img/s302-key.jpg\n",
      "2023-06-06 18:20:38,739 - INFO - downloader - image #38\thttps://bandai-a.akamaihd.net/bc/img/model/xl/1000181175_1.jpg\n",
      "2023-06-06 18:20:38,867 - INFO - downloader - image #39\thttps://life.saisoncard.co.jp/wp-content/uploads/2022/07/pixta_91768218_M-e1658893536577.jpg\n",
      "2023-06-06 18:20:39,166 - INFO - downloader - image #40\thttps://cdn.shopify.com/s/files/1/0478/8384/5781/articles/2._533x.jpg\n",
      "2023-06-06 18:20:39,541 - INFO - downloader - image #41\thttps://tgs.jp.net/wp-content/uploads/2022/12/eed75e2289131517729926b4462fec97.jpg\n",
      "2023-06-06 18:20:39,864 - INFO - downloader - image #42\thttps://goopass-animal-image-prd.s3.ap-northeast-1.amazonaws.com/animal/wp-content/uploads/2022/07/cat-type_tmb.jpg\n",
      "2023-06-06 18:20:40,016 - INFO - downloader - image #43\thttp://www.nekobu.com/blog/9b6aa51008f8c33bd59a3efeb94deccc3e0ed307.jpg\n",
      "2023-06-06 18:20:40,102 - INFO - downloader - image #44\thttps://matuzono.com/wp/wp-content/uploads/2020/04/3051219_m-830x510.jpg\n",
      "2023-06-06 18:20:40,218 - INFO - downloader - image #45\thttps://img.benesse-cms.jp/pet-cat/item/image/normal/f3978ebc-9030-49e7-aa5e-4a370a955e1b.jpg\n",
      "2023-06-06 18:20:40,495 - INFO - downloader - image #46\thttps://goetheweb.jp/wp-content/uploads/2023/02/00_neko.jpg\n",
      "2023-06-06 18:20:40,752 - INFO - downloader - image #47\thttps://www.butch-japan.jp/wp-content/uploads/2017/01/161014pecola01.jpg\n",
      "2023-06-06 18:20:40,905 - INFO - downloader - image #48\thttps://www.cainz.com/dw/image/v2/BCZQ_PRD/on/demandware.static/-/Sites-CainzEc-Library/default/dwd8a8ec8d/contents/cat/cat_img_main_sp.jpg\n",
      "2023-06-06 18:20:41,135 - INFO - downloader - image #49\thttp://nestle.jp/brand/purina/nekokaigi/img/ogp2.jpg\n",
      "2023-06-06 18:20:41,290 - INFO - downloader - image #50\thttps://hips.hearstapps.com/jp.h-cdn.co/25ansjp/25ans-mig/images/lifestyle/focus/anago_190918/676823-1-jpn-JP/_1.jpg\n",
      "2023-06-06 18:20:41,522 - INFO - downloader - downloaded images reach max num, thread downloader-001 is ready to exit\n",
      "2023-06-06 18:20:41,526 - INFO - downloader - thread downloader-001 exit\n",
      "2023-06-06 18:20:42,526 - INFO - icrawler.crawler - Crawling task done!\n"
     ]
    },
    {
     "name": "stderr",
     "output_type": "stream",
     "text": [
      "2023-06-06 18:20:43,307 - INFO - parser - downloaded image reached max num, thread parser-001 is ready to exit\n",
      "2023-06-06 18:20:43,307 - INFO - parser - thread parser-001 exit\n"
     ]
    }
   ],
   "source": [
    "crawler=GI(storage={\"root_dir\":\"images/cat\"})\n",
    "crawler.crawl(keyword=\"猫\",max_num=50)"
   ]
  },
  {
   "attachments": {},
   "cell_type": "markdown",
   "metadata": {},
   "source": [
    "これで、画像自体の準備は完了です。"
   ]
  },
  {
   "attachments": {},
   "cell_type": "markdown",
   "metadata": {},
   "source": [
    "しかし、このクローラー、ちょっとした問題があります。それは、画像ファイルの拡張子がバラバラになっている可能性がある点です。これは、学習時にエラーを吐く大きな原因となってしまうので、何とかして一つの拡張子に統一しなきゃですね。ここでは.jpgへの統一を目標としましょう。"
   ]
  },
  {
   "attachments": {},
   "cell_type": "markdown",
   "metadata": {},
   "source": [
    "2、画像を一気に.jpgに"
   ]
  },
  {
   "attachments": {},
   "cell_type": "markdown",
   "metadata": {},
   "source": [
    "それでは、さっきゲットしてきた画像たちを一気に.jpgにしちゃいましょう。microsoftのサービスとして、特定の画像を.jpgに変換してくれるものがありますが、これはひたすらドラッグアンドドロップなので時間がかかりすぎです。よって、opencvとglob、osを用いて、一気にやっちゃいます。"
   ]
  },
  {
   "attachments": {},
   "cell_type": "markdown",
   "metadata": {},
   "source": [
    "まずは、globの出番です。このglobというライブラリは、フォルダやファイルのパスの取得に物凄く有用なライブラリです。以下のコードは、さっきダウンロードした画像たちのパスをすべて読み込んで、変数に代入しています。"
   ]
  },
  {
   "cell_type": "code",
   "execution_count": 5,
   "metadata": {},
   "outputs": [
    {
     "name": "stdout",
     "output_type": "stream",
     "text": [
      "['images/dog\\\\000001.jpg', 'images/dog\\\\000002.jpg', 'images/dog\\\\000003.jpg', 'images/dog\\\\000004.jpg', 'images/dog\\\\000005.jpg', 'images/dog\\\\000006.jpg', 'images/dog\\\\000007.jpg', 'images/dog\\\\000008.jpg', 'images/dog\\\\000009.jpg', 'images/dog\\\\000010.jpg', 'images/dog\\\\000011.jpg', 'images/dog\\\\000012.jpg', 'images/dog\\\\000013.jpg', 'images/dog\\\\000014.jpg', 'images/dog\\\\000015.jpg', 'images/dog\\\\000016.jpg', 'images/dog\\\\000017.jpg', 'images/dog\\\\000018.jpg', 'images/dog\\\\000019.jpg', 'images/dog\\\\000020.jpg', 'images/dog\\\\000021.jpg', 'images/dog\\\\000022.jpg', 'images/dog\\\\000023.jpg', 'images/dog\\\\000024.jpg', 'images/dog\\\\000025.jpg', 'images/dog\\\\000026.jpg', 'images/dog\\\\000027.jpg', 'images/dog\\\\000028.jpg', 'images/dog\\\\000029.jpg', 'images/dog\\\\000030.jpg', 'images/dog\\\\000031.jpg', 'images/dog\\\\000032.jpg', 'images/dog\\\\000033.jpg', 'images/dog\\\\000034.jpg', 'images/dog\\\\000035.jpg', 'images/dog\\\\000036.jpg', 'images/dog\\\\000037.jpg', 'images/dog\\\\000038.jpg', 'images/dog\\\\000039.jpg', 'images/dog\\\\000040.jpg', 'images/dog\\\\000041.jpg', 'images/dog\\\\000042.png', 'images/dog\\\\000043.jpg', 'images/dog\\\\000044.jpg', 'images/dog\\\\000045.jpg', 'images/dog\\\\000046.jpg', 'images/dog\\\\000047.jpg', 'images/dog\\\\000048.jpg', 'images/dog\\\\000049.jpg', 'images/dog\\\\000050.png']\n"
     ]
    }
   ],
   "source": [
    "import glob\n",
    "files_dog=glob.glob(\"images/dog/*\") #\"*\"と示すことで、フォルダの中のすべてのファイルのパスをゲットできる\n",
    "files_cat=glob.glob(\"images/cat/*\")\n",
    "\n",
    "print(files_dog)"
   ]
  },
  {
   "attachments": {},
   "cell_type": "markdown",
   "metadata": {},
   "source": [
    "このように、保存された画像の相対パスがすべて配列に格納されています。"
   ]
  },
  {
   "attachments": {},
   "cell_type": "markdown",
   "metadata": {},
   "source": [
    "それでは、このパス達を用いて、すべての画像を.jpgに変換していきます。ここで、opencvの出番です。"
   ]
  },
  {
   "attachments": {},
   "cell_type": "markdown",
   "metadata": {},
   "source": [
    "opencvとは、画像処理に用いられるオープンソースのライブラリです。以下のコードは、画像データを.jpgに変換し、変換前の画像を削除するという処理を行っています。"
   ]
  },
  {
   "cell_type": "code",
   "execution_count": 6,
   "metadata": {},
   "outputs": [],
   "source": [
    "import cv2 #opencvはcv2として読み込まれる\n",
    "import os\n",
    "\n",
    "#さっきのパス達の配列を保存する配列を生成\n",
    "files=[files_dog,files_cat]\n",
    "\n",
    "for i in files:\n",
    "    for j in i:\n",
    "\n",
    "        #cv2.imreadで、指定されたパスの画像を読み込む\n",
    "        img=cv2.imread(j)\n",
    "\n",
    "        #osライブラリは、osの機能をpythonで使うためのもの\n",
    "        #さっき読み込んだ画像を削除している（データはimg変数に残ってるので安心）\n",
    "        os.remove(j)\n",
    "\n",
    "        #cv2.imwriteで画像に名前を付けて保存する。\n",
    "        #読み込んだファイルの拡張子を.jpgにして、データもjpeg形式にして保存している\n",
    "        cv2.imwrite(j.split(\".\")[0]+\".jpg\",img,[cv2.IMWRITE_JPEG_QUALITY,200]) #この200は、画像の鮮明さを示すらしい"
   ]
  },
  {
   "attachments": {},
   "cell_type": "markdown",
   "metadata": {},
   "source": [
    "このコードだと、もともと.jpgだったファイルも読み込んでしまいますが、特に問題なしです。"
   ]
  },
  {
   "attachments": {},
   "cell_type": "markdown",
   "metadata": {},
   "source": [
    "以上で、画像の準備は完了です。お疲れ様でした。つぎは、「csv_base」に取り組んでください"
   ]
  },
  {
   "cell_type": "code",
   "execution_count": null,
   "metadata": {},
   "outputs": [],
   "source": []
  }
 ],
 "metadata": {
  "kernelspec": {
   "display_name": "Python 3 (ipykernel)",
   "language": "python",
   "name": "python3"
  },
  "language_info": {
   "codemirror_mode": {
    "name": "ipython",
    "version": 3
   },
   "file_extension": ".py",
   "mimetype": "text/x-python",
   "name": "python",
   "nbconvert_exporter": "python",
   "pygments_lexer": "ipython3",
   "version": "3.10.5"
  },
  "vscode": {
   "interpreter": {
    "hash": "15ceeb7393f0aff2609f088f7fc6d439204a45655252d34f7ade3b35005ea835"
   }
  }
 },
 "nbformat": 4,
 "nbformat_minor": 2
}
