{
 "cells": [
  {
   "attachments": {},
   "cell_type": "markdown",
   "metadata": {},
   "source": [
    "補足資料 csvの作り方"
   ]
  },
  {
   "attachments": {},
   "cell_type": "markdown",
   "metadata": {},
   "source": [
    "1、csvライブラリ"
   ]
  },
  {
   "attachments": {},
   "cell_type": "markdown",
   "metadata": {},
   "source": [
    "※この資料は、icrawlerで犬と猫の画像を集めた方のみを対象にしています。もし、画像を用意できていなければ、「icrawler_base」に取り組むように。"
   ]
  },
  {
   "attachments": {},
   "cell_type": "markdown",
   "metadata": {},
   "source": [
    "データセットを作るには、画像を用意するだけではいけません。画像の種類を示すラベルが必要です。pytorchでは、この画像とラベルの紐付けにcsvというファイルを用います。"
   ]
  },
  {
   "attachments": {},
   "cell_type": "markdown",
   "metadata": {},
   "source": [
    "csvとは、あるデータのもつ情報をカンマ（,）で区切ったものの集合のことで、excelシートに似ています。例として、「人.csv」というファイルが用意されているはずです。確認してみてください。"
   ]
  },
  {
   "attachments": {},
   "cell_type": "markdown",
   "metadata": {},
   "source": [
    "見ていただけたら分かるように、csvの行が、一つのデータを示しており、列にそのデータに関する情報が示されています。この列に示された情報の種類のことを、フィールドといいます。"
   ]
  },
  {
   "attachments": {},
   "cell_type": "markdown",
   "metadata": {},
   "source": [
    "csvはファイルの一番上にフィールドが示されており、「Name,age,address」がそれになります。つまり、\"Shin\"さんのデータの場合だと、\"Shin\"さんの年齢(age)は18歳、住所は\"usa\"であることを示しています。"
   ]
  },
  {
   "attachments": {},
   "cell_type": "markdown",
   "metadata": {},
   "source": [
    "それでは、Pythonを用いて、csvを作ってみましょう。"
   ]
  },
  {
   "cell_type": "code",
   "execution_count": 1,
   "metadata": {},
   "outputs": [],
   "source": [
    "import csv\n",
    "\n",
    "with open(\"test.csv\",\"w\") as csv_file: #csvを書き込みモードで新規作成し、csv_fileという変数で読み込めるようにする\n",
    "    \n",
    "    #csvのフィールドを決める\n",
    "    field=[\"path\",\"label\"]\n",
    "\n",
    "    #csvに記入を行うためのクラスのインスタンスを\n",
    "    writer=csv.DictWriter(csv_file,field) #csvを示す変数と、フィールドを代入する\n",
    "\n",
    "    #csvに書き込み{フィールド名:データ,・・・}のように書く\n",
    "    writer.writeheader()\n",
    "    writer.writerow({\"path\":\"image/dog.jpg\",\"label\":0})\n",
    "    writer.writerow({\"path\":\"image/cat.jpg\",\"label\":1})"
   ]
  },
  {
   "attachments": {},
   "cell_type": "markdown",
   "metadata": {},
   "source": [
    "pythonでcsvを作るにはcsvライブラリをインポートする必要があります。こいつは標準でpythonに入ってるのでインストール不要です。"
   ]
  },
  {
   "attachments": {},
   "cell_type": "markdown",
   "metadata": {},
   "source": [
    "withという見慣れない表現が出てきましたね。これはファイル処理をより簡単にする為のpythonの文の一つです(他にも使い道はあります)。このwith文のインデントの中では、open()関数で開いたor作ったファイルをcsv_fileという変数として読み込めるようになっています。"
   ]
  },
  {
   "attachments": {},
   "cell_type": "markdown",
   "metadata": {},
   "source": [
    "また、このopen()関数は、開くor作るファイルの名前と、書き込みを行うか(\"w\")、読み込みを行うか(\"r\")などのモード選択を行う文字列を引き数とします。この場合、test.csvというファイルを書き込みモードで生成しているのがわかりますね。"
   ]
  },
  {
   "attachments": {},
   "cell_type": "markdown",
   "metadata": {},
   "source": [
    "pytorchでは、画像のパスと、ラベルをフィールドに分けて、一つのcsvに示すという作業を、「すべての画像について行う必要があります」。はい、めんどくさいですね。よってpythonで自動化しちゃいましょう。"
   ]
  },
  {
   "attachments": {},
   "cell_type": "markdown",
   "metadata": {},
   "source": [
    "2、csv作成の自動化"
   ]
  },
  {
   "attachments": {},
   "cell_type": "markdown",
   "metadata": {},
   "source": [
    "今回は犬のラベルを0、猫のラベルを1としてラベル付けを行っていきます。以下はそのコードです。"
   ]
  },
  {
   "cell_type": "code",
   "execution_count": 2,
   "metadata": {},
   "outputs": [],
   "source": [
    "import csv\n",
    "import glob\n",
    "\n",
    "#犬の画像たちのパスを取得\n",
    "dog=glob.glob(\"images/dog/*\")\n",
    "#猫の分も\n",
    "cat=glob.glob(\"images/cat/*\")\n",
    "\n",
    "paths=[dog,cat]\n",
    "\n",
    "#rラベルを示す為の変数\n",
    "label_cnt=0\n",
    "\n",
    "with open(\"dog_cat.csv\",\"w\") as csv_file:\n",
    "    field=[\"path\",\"label\"]\n",
    "    writer=csv.DictWriter(csv_file,field)\n",
    "    writer.writeheader()\n",
    "    for i in paths:\n",
    "        for j in i:\n",
    "            writer.writerow({\"path\":j,\"label\":label_cnt})\n",
    "        label_cnt+=1"
   ]
  },
  {
   "attachments": {},
   "cell_type": "markdown",
   "metadata": {},
   "source": [
    "作られたcsvファイルを確認してみてください。パスとラベルがしっかり記入されているでしょうか?"
   ]
  },
  {
   "attachments": {},
   "cell_type": "markdown",
   "metadata": {},
   "source": [
    "これで、今回は終了です。お疲れ様でした。次は、dataset_loader_base.ipynbに取り組んでください。"
   ]
  },
  {
   "cell_type": "code",
   "execution_count": null,
   "metadata": {},
   "outputs": [],
   "source": []
  }
 ],
 "metadata": {
  "kernelspec": {
   "display_name": "torch",
   "language": "python",
   "name": "python3"
  },
  "language_info": {
   "codemirror_mode": {
    "name": "ipython",
    "version": 3
   },
   "file_extension": ".py",
   "mimetype": "text/x-python",
   "name": "python",
   "nbconvert_exporter": "python",
   "pygments_lexer": "ipython3",
   "version": "3.10.5"
  },
  "orig_nbformat": 4,
  "vscode": {
   "interpreter": {
    "hash": "15ceeb7393f0aff2609f088f7fc6d439204a45655252d34f7ade3b35005ea835"
   }
  }
 },
 "nbformat": 4,
 "nbformat_minor": 2
}
