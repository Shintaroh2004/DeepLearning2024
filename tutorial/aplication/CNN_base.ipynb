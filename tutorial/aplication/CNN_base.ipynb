{
 "cells": [
  {
   "attachments": {},
   "cell_type": "markdown",
   "metadata": {},
   "source": [
    "第5回　CNNによる画像分類"
   ]
  },
  {
   "attachments": {},
   "cell_type": "markdown",
   "metadata": {},
   "source": [
    "今回は，より精度の高い画像分類が可能なCNNについて学んでいきます．"
   ]
  },
  {
   "attachments": {},
   "cell_type": "markdown",
   "metadata": {},
   "source": [
    "１，CNNとは"
   ]
  },
  {
   "attachments": {},
   "cell_type": "markdown",
   "metadata": {},
   "source": [
    "CNN（畳み込みニューラルネットワーク）とは，「畳み込み層」・「プーリング層」と線形層により構成されるモデルのひとつで，線形層のみで構成されるモデルよりも少ないデータ数で精度の高い推論が可能となります．以下のリンクにCNNの概要を示します．"
   ]
  },
  {
   "attachments": {},
   "cell_type": "markdown",
   "metadata": {},
   "source": [
    "<img src=\"https://www.analog.com/-/media/images/analog-dialogue/en/volume-57/number-1/articles/max78000-article-series-part-1/480370-fig-03.svg?w=435\">"
   ]
  },
  {
   "attachments": {},
   "cell_type": "markdown",
   "metadata": {},
   "source": [
    "畳み込み層とは，カーネルと呼ばれる小さな行列を用いることで，畳み込み処理を行う層です．下のリンクに畳み込み処理を行う様子がGIFにより分かりやすく示されているので，確認してみてください．"
   ]
  },
  {
   "attachments": {},
   "cell_type": "markdown",
   "metadata": {},
   "source": [
    "<img src=\"https://camo.qiitausercontent.com/12545193254e3938b8914f22cdff6e238eab2d4b/68747470733a2f2f71696974612d696d6167652d73746f72652e73332e616d617a6f6e6177732e636f6d2f302f3232313834352f33636231326232312d383539612d393331312d326165362d3735363932383231313931302e676966\">"
   ]
  },
  {
   "attachments": {},
   "cell_type": "markdown",
   "metadata": {},
   "source": [
    "pytorchでは，畳み込み層をnn.Conv2dと定義しており，そのコンストラクタは主に4つの引数を取ります．入力チャネル数，出力チャネル数，カーネルサイズ，ストライドサイズです．"
   ]
  },
  {
   "cell_type": "code",
   "execution_count": 1,
   "metadata": {},
   "outputs": [
    {
     "name": "stdout",
     "output_type": "stream",
     "text": [
      "Conv2d(3, 6, kernel_size=(5, 5), stride=(2, 2))\n"
     ]
    }
   ],
   "source": [
    "from torch import nn\n",
    "\n",
    "input_channel=3 #畳み込み層の入力チャネル数\n",
    "output_channel=6 #畳み込み層の出力チャネル数（カーネルの数でもある）\n",
    "kernel_size=5 #カーネルのサイズ（5×5）\n",
    "stride_size=2 #ストライドサイズ\n",
    "\n",
    "conv=nn.Conv2d(input_channel,output_channel,kernel_size,stride_size)\n",
    "\n",
    "print(conv)"
   ]
  },
  {
   "attachments": {},
   "cell_type": "markdown",
   "metadata": {},
   "source": [
    "ストライドサイズとは，畳み込みの動作において，カーネルをずらすピクセル数のことを指します．上のリンクだと，カーネルが1マスずつずれているので，ストライドサイズは1となります．以下のリンクに，ストライドサイズを2とした時の，畳み込みの様子を示します．"
   ]
  },
  {
   "attachments": {},
   "cell_type": "markdown",
   "metadata": {},
   "source": [
    "<img src=\"https://deepage.net/img/convolutional_neural_network/stride2.gif\">"
   ]
  },
  {
   "attachments": {},
   "cell_type": "markdown",
   "metadata": {},
   "source": [
    "畳み込み層では，このカーネルのサイズやストライドサイズを大きくすると，出力の二次元データのサイズは小さくなります．以下のコードでは，(28,28)の二次元データをそれぞれ，カーネルサイズ・ストライドサイズが異なる畳み込み層に入力し，得られたデータのサイズを表示しています．"
   ]
  },
  {
   "cell_type": "code",
   "execution_count": 3,
   "metadata": {},
   "outputs": [
    {
     "name": "stdout",
     "output_type": "stream",
     "text": [
      "torch.Size([6, 25, 25])\n",
      "torch.Size([6, 6, 6])\n"
     ]
    }
   ],
   "source": [
    "import torch\n",
    "\n",
    "input=torch.rand(3,28,28) #ランダムなチャネル数3，サイズ(28,28)の二次元データ\n",
    "\n",
    "conv1=nn.Conv2d(3,6,4,1) #入力チャネル3，出力6，カーネルサイズ4，ストライドサイズ1\n",
    "conv2=nn.Conv2d(3,6,7,4) #カーネルサイズ7，ストライドサイズ4\n",
    "\n",
    "output1=conv1(input)\n",
    "print(output1.size()) #チャネル数6の(25,25)のデータ\n",
    "output2=conv2(input)\n",
    "print(output2.size()) #チャネル数6の(6,6)のデータ"
   ]
  },
  {
   "attachments": {},
   "cell_type": "markdown",
   "metadata": {},
   "source": [
    "このように，カーネル・ストライドサイズが大きくなると，畳み込み層の出力サイズは小さくなることが確認できます．また，畳み込み層の出力で得られたデータは，「特徴量マップ」と呼ばれます．"
   ]
  },
  {
   "attachments": {},
   "cell_type": "markdown",
   "metadata": {},
   "source": [
    "出力のサイズが小さくなってしまうと，データが順伝搬を行う際に，情報量がだんだんと減少してしまい，学習がしずらくなります．その分をチャネル数で補うという方法もありますが，こうしたデータサイズの縮小を抑えるために，「ゼロパディング」を行うことがあります．"
   ]
  },
  {
   "attachments": {},
   "cell_type": "markdown",
   "metadata": {},
   "source": [
    "ゼロパディングとは，畳み込み層などの出力のサイズ低下の影響を少なくするため，入力データの周りに，値0のデータを配置して，データの補完を行うというものです．以下のリンクに，ゼロパディングの概要を，その下のコードに，nn.Conv2dでパディングを行うコードを示します．"
   ]
  },
  {
   "attachments": {},
   "cell_type": "markdown",
   "metadata": {},
   "source": [
    "<img src=\"https://resources.zero2one.jp/2022/05/ai_exp_206-2-1024x576.jpeg\">"
   ]
  },
  {
   "cell_type": "code",
   "execution_count": 4,
   "metadata": {},
   "outputs": [
    {
     "name": "stdout",
     "output_type": "stream",
     "text": [
      "torch.Size([6, 6, 6])\n",
      "torch.Size([6, 7, 7])\n"
     ]
    }
   ],
   "source": [
    "import torch\n",
    "\n",
    "padding_size=2 #パディングサイズ\n",
    "\n",
    "input=torch.rand(3,28,28) #ランダムなチャネル数3，サイズ(28,28)の二次元データ\n",
    "\n",
    "conv3=nn.Conv2d(3,6,7,4) #入力チャネル3，出力6，カーネルサイズ7，ストライドサイズ4\n",
    "conv4=nn.Conv2d(3,6,7,4,padding_size) #カーネルサイズ7，ストライドサイズ2 パディング数2\n",
    "\n",
    "output1=conv3(input)\n",
    "print(output1.size()) #チャネル数6の(6,6)のデータ\n",
    "output2=conv4(input)\n",
    "print(output2.size()) #チャネル数6の(7,7)のデータ"
   ]
  },
  {
   "attachments": {},
   "cell_type": "markdown",
   "metadata": {},
   "source": [
    "プーリング層とは，入力データをより扱いやすい形に変換するため，情報を圧縮するための処理（プーリング）を行う層です．プーリングにはいくつか種類がありますが，代表的なものとしてマックスプーリングと呼ばれる手法が挙げられます．以下のリンクにマックスプーリングの様子を示します．"
   ]
  },
  {
   "attachments": {},
   "cell_type": "markdown",
   "metadata": {},
   "source": [
    "<img src=\"https://deepage.net/img/convolutional_neural_network/max_pooling.jpg\">"
   ]
  },
  {
   "attachments": {},
   "cell_type": "markdown",
   "metadata": {},
   "source": [
    "マックスプーリングは，ある入力データの一部から最大値を選び，その値を，一つのマスの要素にするというものです．pytorchでは，マックスプーリングを行うプーリング層はnn.MaxPool2dで定義されています．以下のコードは，任意の大きさの二次元データに対してマックスプーリングを行った結果を出力します．"
   ]
  },
  {
   "cell_type": "code",
   "execution_count": 5,
   "metadata": {},
   "outputs": [
    {
     "name": "stdout",
     "output_type": "stream",
     "text": [
      "プーリング前\n",
      " tensor([[[0.8318, 0.8794, 0.6467, 0.0164],\n",
      "         [0.4557, 0.9951, 0.1748, 0.0589],\n",
      "         [0.1580, 0.3041, 0.1387, 0.5801],\n",
      "         [0.6775, 0.7894, 0.3138, 0.8816]],\n",
      "\n",
      "        [[0.6971, 0.6244, 0.0279, 0.1668],\n",
      "         [0.5808, 0.6770, 0.8730, 0.3953],\n",
      "         [0.1056, 0.5978, 0.5298, 0.0647],\n",
      "         [0.8901, 0.5938, 0.7135, 0.1471]],\n",
      "\n",
      "        [[0.5173, 0.8276, 0.9222, 0.0678],\n",
      "         [0.2762, 0.3131, 0.5413, 0.6138],\n",
      "         [0.7360, 0.6918, 0.2084, 0.6430],\n",
      "         [0.1111, 0.0133, 0.0694, 0.1183]]])\n",
      "\n",
      "プーリング後\n",
      " tensor([[[0.9951, 0.6467],\n",
      "         [0.7894, 0.8816]],\n",
      "\n",
      "        [[0.6971, 0.8730],\n",
      "         [0.8901, 0.7135]],\n",
      "\n",
      "        [[0.8276, 0.9222],\n",
      "         [0.7360, 0.6430]]])\n"
     ]
    }
   ],
   "source": [
    "input=torch.rand(3,4,4) #チャネル数3，(4,4)のランダムな値を生成\n",
    "pool1=nn.MaxPool2d(2,2) #(2,2)のデータを選ぶ，ストライドサイズ2\n",
    "output=pool1(input)\n",
    "print(\"プーリング前\\n\",input) #元の入力データ\n",
    "print(\"\\nプーリング後\\n\",output) #プーリング後のデータ"
   ]
  },
  {
   "attachments": {},
   "cell_type": "markdown",
   "metadata": {},
   "source": [
    "今回の場合だと，プーリングした際に出てくるデータは，四つ角の(2,2)の領域の中の最大値となっています．"
   ]
  },
  {
   "attachments": {},
   "cell_type": "markdown",
   "metadata": {},
   "source": [
    "畳み込みとプーリングが完了したデータは，チャネル数1の一次元テンソルにしてあげないといけません．これは，線形層の入力が一次元しか受け付けないためです．以下のコードは，畳み込みが完了したデータを，チャネル数1の一次元テンソルに変換する処理を示しています．"
   ]
  },
  {
   "cell_type": "code",
   "execution_count": 6,
   "metadata": {},
   "outputs": [
    {
     "name": "stdout",
     "output_type": "stream",
     "text": [
      "\n",
      "畳み込み&プーリング後\n",
      " torch.Size([6, 14, 14])\n",
      "\n",
      "フラット後\n",
      " torch.Size([1, 1176])\n"
     ]
    }
   ],
   "source": [
    "input=torch.rand(3,32,32) #チャネル数3，(4,4)のランダムな値を生成\n",
    "conv5=nn.Conv2d(3,6,5) #入力チャネル3，出力6，カーネルサイズ5\n",
    "pool1=nn.MaxPool2d(2,2) #(2,2)のデータを選ぶ，ストライドサイズ2\n",
    "output=pool1(conv5(input))\n",
    "print(\"\\n畳み込み&プーリング後\\n\",output.size()) #プーリング後のデータ\n",
    "#viewメソッドを使えば，一次元のテンソルに直せる\n",
    "flatten_out=output.view(-1,output.size()[0]*output.size()[1]*output.size()[2])\n",
    "print(\"\\nフラット後\\n\",flatten_out.size())"
   ]
  },
  {
   "attachments": {},
   "cell_type": "markdown",
   "metadata": {},
   "source": [
    "しかし，viewメソッドはコードが冗長化する原因となるので，かわりに,torch.flatten()というメソッドを使いましょう．"
   ]
  },
  {
   "cell_type": "code",
   "execution_count": 7,
   "metadata": {},
   "outputs": [
    {
     "name": "stdout",
     "output_type": "stream",
     "text": [
      "\n",
      "畳み込み&プーリング後\n",
      " torch.Size([6, 14, 14])\n",
      "\n",
      "フラット後\n",
      " torch.Size([1176])\n"
     ]
    }
   ],
   "source": [
    "input=torch.rand(3,32,32) #チャネル数3，(4,4)のランダムな値を生成\n",
    "conv5=nn.Conv2d(3,6,5) #入力チャネル3，出力6，カーネルサイズ5\n",
    "pool1=nn.MaxPool2d(2,2) #(2,2)のデータを選ぶ，ストライドサイズ2\n",
    "output=pool1(conv5(input))\n",
    "print(\"\\n畳み込み&プーリング後\\n\",output.size()) #プーリング後のデータ\n",
    "#torch.flattenを使えば，一次元のテンソルに直せる\n",
    "flatten_out=torch.flatten(output)\n",
    "print(\"\\nフラット後\\n\",flatten_out.size())"
   ]
  },
  {
   "attachments": {},
   "cell_type": "markdown",
   "metadata": {},
   "source": [
    "CNNでは，この畳み込みとプーリングを行うことで，精度の高い推論を実現でき，具体的には，以下のことができるようになります．"
   ]
  },
  {
   "attachments": {},
   "cell_type": "markdown",
   "metadata": {},
   "source": [
    "・データ量の削減と計算コスト低下"
   ]
  },
  {
   "attachments": {},
   "cell_type": "markdown",
   "metadata": {},
   "source": [
    "・分類対象の物体の移動に強くなる"
   ]
  },
  {
   "attachments": {},
   "cell_type": "markdown",
   "metadata": {},
   "source": [
    "２，CNNの実装"
   ]
  },
  {
   "attachments": {},
   "cell_type": "markdown",
   "metadata": {},
   "source": [
    "CNNが応用される分野は多く，画像分類や音声認識，さらには強化学習やテキスト分類にも使用されています．今回は主に画像分類を通してCNNの実装を行いましょう．"
   ]
  },
  {
   "attachments": {},
   "cell_type": "markdown",
   "metadata": {},
   "source": [
    "まずはimportからです．"
   ]
  },
  {
   "cell_type": "code",
   "execution_count": 8,
   "metadata": {},
   "outputs": [],
   "source": [
    "import torch\n",
    "from torch import nn\n",
    "from torch.nn import functional as F\n",
    "from torch.utils.data import DataLoader\n",
    "import torchvision\n",
    "from torchvision import datasets\n",
    "from torchvision import transforms\n",
    "import matplotlib.pyplot as plt\n",
    "import numpy as np"
   ]
  },
  {
   "attachments": {},
   "cell_type": "markdown",
   "metadata": {},
   "source": [
    "次に，データセットを用意します"
   ]
  },
  {
   "cell_type": "code",
   "execution_count": 9,
   "metadata": {},
   "outputs": [
    {
     "name": "stdout",
     "output_type": "stream",
     "text": [
      "Files already downloaded and verified\n",
      "Files already downloaded and verified\n"
     ]
    }
   ],
   "source": [
    "transform = transforms.Compose([\n",
    "        transforms.ToTensor(),\n",
    "        transforms.Normalize((0.5, 0.5, 0.5), (0.5, 0.5, 0.5)) #データの正規化と呼ばれる処理\n",
    "    ])\n",
    "\n",
    "batch_size = 4\n",
    "\n",
    "#訓練用データセットとデータローダー\n",
    "trainset = datasets.CIFAR10(root='./data', train=True,\n",
    "                            download=True, transform=transform)\n",
    "trainloader = DataLoader(trainset, batch_size=batch_size,\n",
    "                        shuffle=True, num_workers=2)\n",
    "\n",
    "#検証用データセットとデータローダー\n",
    "testset = datasets.CIFAR10(root='./data', train=False,\n",
    "                            download=True, transform=transform)\n",
    "testloader = DataLoader(testset, batch_size=batch_size,\n",
    "                        shuffle=False, num_workers=2)\n",
    "\n",
    "#分類するクラス（画像の種類）\n",
    "classes = ('plane', 'car', 'bird', 'cat',\n",
    "           'deer', 'dog', 'frog', 'horse', 'ship', 'truck')"
   ]
  },
  {
   "attachments": {},
   "cell_type": "markdown",
   "metadata": {},
   "source": [
    "今回使用するデータセットはCIFAR10と呼ばれるもので，10種類のクラスの分類を行います．以下のコードは，CIFAR10の中身を表示するコードです．"
   ]
  },
  {
   "cell_type": "code",
   "execution_count": 10,
   "metadata": {},
   "outputs": [
    {
     "data": {
      "image/png": "[encoded data removed]",
      "text/plain": [
       "<Figure size 640x480 with 1 Axes>"
      ]
     },
     "metadata": {},
     "output_type": "display_data"
    },
    {
     "name": "stdout",
     "output_type": "stream",
     "text": [
      "cat   label is 3 dog   label is 5 deer  label is 4 truck label is 9\n"
     ]
    }
   ],
   "source": [
    "def imshow(img):\n",
    "    img = img / 2 + 0.5 #正規化を解除\n",
    "    npimg = img.numpy()\n",
    "    plt.imshow(np.transpose(npimg, (1, 2, 0)))\n",
    "    plt.show() #画像の表示\n",
    "\n",
    "\n",
    "# データをランダムに抽出\n",
    "dataiter = iter(trainloader)\n",
    "images, labels = next(dataiter)\n",
    "\n",
    "# 画像を表示\n",
    "imshow(torchvision.utils.make_grid(images))\n",
    "# ラベル（クラス）を表示\n",
    "print(' '.join(f'{classes[labels[j]]:5s} label is {labels[j]}' for j in range(batch_size)))"
   ]
  },
  {
   "attachments": {},
   "cell_type": "markdown",
   "metadata": {},
   "source": [
    "次はCNNモデルの定義に入ります．"
   ]
  },
  {
   "cell_type": "code",
   "execution_count": 11,
   "metadata": {},
   "outputs": [],
   "source": [
    "class Net(nn.Module): #モデルの定義\n",
    "    def __init__(self): #コンストラクター\n",
    "        super().__init__() #nn.Moduleの初期化実行\n",
    "        self.conv=nn.Sequential(\n",
    "            nn.Conv2d(3,6,5), #rgbのデータなので，入力チャネル数は3\n",
    "            nn.ReLU(),\n",
    "            nn.MaxPool2d(2,2),\n",
    "            nn.Conv2d(6,16,5),\n",
    "            nn.ReLU(),\n",
    "            nn.MaxPool2d(2,2),\n",
    "        )\n",
    "        self.linear=nn.Sequential(\n",
    "            nn.Linear(16*5*5,120), #注目\n",
    "            nn.ReLU(),\n",
    "            nn.Linear(120,120),\n",
    "            nn.ReLU(),\n",
    "            nn.Linear(120,84),\n",
    "            nn.ReLU(),\n",
    "            nn.Linear(84,10),\n",
    "        )\n",
    "    \n",
    "    def forward(self,x):\n",
    "        x=self.conv(x)\n",
    "        x=torch.flatten(x,1) #チャネル数含む全次元が平坦化して，線形層に入力できる\n",
    "        x=self.linear(x)\n",
    "        return x\n",
    "\n",
    "net=Net()"
   ]
  },
  {
   "attachments": {},
   "cell_type": "markdown",
   "metadata": {},
   "source": [
    "ここで，注意する点は，畳み込みと，プーリングを行うことによる画像データのサイズ変化です．一つ目の線形層の入力は16×5×5となっていますが，これは，実験的に求めた値となります．一応理論式は存在しますが，面倒くさいので実験的に求めることが多いです．"
   ]
  },
  {
   "cell_type": "code",
   "execution_count": 12,
   "metadata": {},
   "outputs": [
    {
     "name": "stdout",
     "output_type": "stream",
     "text": [
      "torch.Size([16, 5, 5])\n"
     ]
    }
   ],
   "source": [
    "conv6=nn.Sequential(\n",
    "    nn.Conv2d(3,6,5), #rgbのデータなので，入力チャネル数は3\n",
    "    nn.ReLU(),\n",
    "    nn.MaxPool2d(2,2),\n",
    "    nn.Conv2d(6,16,5),\n",
    "    nn.ReLU(),\n",
    "    nn.MaxPool2d(2,2),\n",
    ")\n",
    "x=torch.rand(3,32,32) #CIFARの画像データと同じサイズ条件\n",
    "print(conv6(x).size())"
   ]
  },
  {
   "attachments": {},
   "cell_type": "markdown",
   "metadata": {},
   "source": [
    "これをしないと入力エラーが発生するので，必ずサイズチェックだけは行って下さい．"
   ]
  },
  {
   "attachments": {},
   "cell_type": "markdown",
   "metadata": {},
   "source": [
    "次は，損失関数とオプティマイザの定義です．今回はtorch.nn.MultiMarginLoss()を損失関数に，Adam()をオプティマイザとして利用してみます．Adamはかなり優秀なオプティマイザです．"
   ]
  },
  {
   "cell_type": "code",
   "execution_count": 13,
   "metadata": {},
   "outputs": [],
   "source": [
    "loss_fn=nn.MultiMarginLoss()\n",
    "optimizer=torch.optim.Adam(net.parameters(),lr=0.001)"
   ]
  },
  {
   "cell_type": "code",
   "execution_count": 14,
   "metadata": {},
   "outputs": [
    {
     "name": "stdout",
     "output_type": "stream",
     "text": [
      "[1,  2000] loss: 0.538\n",
      "[1,  4000] loss: 0.391\n",
      "[1,  6000] loss: 0.360\n",
      "[1,  8000] loss: 0.337\n",
      "[1, 10000] loss: 0.331\n",
      "[1, 12000] loss: 0.315\n",
      "[2,  2000] loss: 0.289\n",
      "[2,  4000] loss: 0.290\n",
      "[2,  6000] loss: 0.284\n",
      "[2,  8000] loss: 0.278\n",
      "[2, 10000] loss: 0.279\n",
      "[2, 12000] loss: 0.280\n",
      "[3,  2000] loss: 0.254\n",
      "[3,  4000] loss: 0.257\n",
      "[3,  6000] loss: 0.258\n",
      "[3,  8000] loss: 0.254\n",
      "[3, 10000] loss: 0.261\n",
      "[3, 12000] loss: 0.250\n",
      "[4,  2000] loss: 0.238\n",
      "[4,  4000] loss: 0.237\n",
      "[4,  6000] loss: 0.239\n",
      "[4,  8000] loss: 0.244\n",
      "[4, 10000] loss: 0.241\n",
      "[4, 12000] loss: 0.234\n",
      "Done\n"
     ]
    }
   ],
   "source": [
    "for epoch in range(4): #学習ループ\n",
    "\n",
    "    running_loss = 0.0\n",
    "    for i, data in enumerate(trainloader, 0):\n",
    "        #データとラベルを取出し\n",
    "        inputs, labels = data\n",
    "\n",
    "        #傾きをゼロにリセット\n",
    "        optimizer.zero_grad()\n",
    "\n",
    "        #順伝搬，誤差逆伝搬\n",
    "        outputs = net(inputs)\n",
    "        loss = loss_fn(outputs, labels)\n",
    "        loss.backward()\n",
    "        optimizer.step()\n",
    "\n",
    "        # 学習の進捗確認\n",
    "        running_loss += loss.item()\n",
    "        if i % 2000 == 1999:    # print every 2000 mini-batches\n",
    "            print(f'[{epoch + 1}, {i + 1:5d}] loss: {running_loss / 2000:.3f}')\n",
    "            running_loss = 0.0\n",
    "\n",
    "print('Done')"
   ]
  },
  {
   "attachments": {},
   "cell_type": "markdown",
   "metadata": {},
   "source": [
    "最後に，学習させたCNNモデルのテストをします．"
   ]
  },
  {
   "cell_type": "code",
   "execution_count": 15,
   "metadata": {},
   "outputs": [
    {
     "name": "stdout",
     "output_type": "stream",
     "text": [
      "画像10000枚でのモデルの平均精度: 56 %\n"
     ]
    }
   ],
   "source": [
    "correct = 0\n",
    "total = 0\n",
    "with torch.no_grad():\n",
    "    for data in testloader:\n",
    "        images, labels = data\n",
    "        outputs = net(images)\n",
    "        _, predicted = torch.max(outputs.data, 1)\n",
    "        total += labels.size(0)\n",
    "        correct += (predicted == labels).sum().item()\n",
    "\n",
    "print(f'画像10000枚でのモデルの平均精度: {100 * correct // total} %')"
   ]
  },
  {
   "attachments": {},
   "cell_type": "markdown",
   "metadata": {},
   "source": [
    "今回は学習回数がたった4回だったので少し微妙ですね．学習回数を上げるとさらに精度が高くなりますが，学習にはかなりの時間を要します．そこで，次回はさらに精度の高い推論をできるように，転移学習というものを行ってみましょう．"
   ]
  },
  {
   "cell_type": "code",
   "execution_count": null,
   "metadata": {},
   "outputs": [],
   "source": []
  }
 ],
 "metadata": {
  "kernelspec": {
   "display_name": "torch",
   "language": "python",
   "name": "python3"
  },
  "language_info": {
   "codemirror_mode": {
    "name": "ipython",
    "version": 3
   },
   "file_extension": ".py",
   "mimetype": "text/x-python",
   "name": "python",
   "nbconvert_exporter": "python",
   "pygments_lexer": "ipython3",
   "version": "3.10.5"
  },
  "orig_nbformat": 4,
  "vscode": {
   "interpreter": {
    "hash": "15ceeb7393f0aff2609f088f7fc6d439204a45655252d34f7ade3b35005ea835"
   }
  }
 },
 "nbformat": 4,
 "nbformat_minor": 2
}
